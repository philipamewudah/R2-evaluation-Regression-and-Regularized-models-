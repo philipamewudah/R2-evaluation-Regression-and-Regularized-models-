{
 "cells": [
  {
   "cell_type": "markdown",
   "metadata": {},
   "source": [
    "<h1><center> Regression analysis / Ridge regression / Lasso regression (R^2 evaluation) </center></h1>\n"
   ]
  },
  {
   "cell_type": "code",
   "execution_count": 13,
   "metadata": {},
   "outputs": [],
   "source": [
    "import pandas as pd\n",
    "import numpy as np\n",
    "import matplotlib.pyplot as plt\n",
    "from sklearn.linear_model import LinearRegression\n",
    "from sklearn.metrics import r2_score"
   ]
  },
  {
   "cell_type": "code",
   "execution_count": 14,
   "metadata": {},
   "outputs": [
    {
     "name": "stdout",
     "output_type": "stream",
     "text": [
      "     Unnamed: 0     TV  radio  newspaper  sales\n",
      "0             1  230.1   37.8       69.2   22.1\n",
      "1             2   44.5   39.3       45.1   10.4\n",
      "2             3   17.2   45.9       69.3    9.3\n",
      "3             4  151.5   41.3       58.5   18.5\n",
      "4             5  180.8   10.8       58.4   12.9\n",
      "..          ...    ...    ...        ...    ...\n",
      "195         196   38.2    3.7       13.8    7.6\n",
      "196         197   94.2    4.9        8.1    9.7\n",
      "197         198  177.0    9.3        6.4   12.8\n",
      "198         199  283.6   42.0       66.2   25.5\n",
      "199         200  232.1    8.6        8.7   13.4\n",
      "\n",
      "[200 rows x 5 columns]\n"
     ]
    }
   ],
   "source": [
    "import pandas as pd\n",
    "data = pd.read_csv(\"Advertising.csv\")\n",
    "print(data)"
   ]
  },
  {
   "cell_type": "code",
   "execution_count": 12,
   "metadata": {},
   "outputs": [],
   "source": [
    "## Split data into train and test set\n",
    "\n",
    "from sklearn.model_selection import train_test_split \n",
    "Xs = data.drop(['sales', 'Unnamed: 0'], axis=1)\n",
    "y = data['sales'].values.reshape(-1,1)\n",
    "Xs_train, Xs_test, y_train, y_test=train_test_split(Xs,y,test_size=.2,random_state=3)"
   ]
  },
  {
   "cell_type": "markdown",
   "metadata": {},
   "source": [
    "### 1. Sales ~ TV"
   ]
  },
  {
   "cell_type": "code",
   "execution_count": 247,
   "metadata": {},
   "outputs": [
    {
     "name": "stdout",
     "output_type": "stream",
     "text": [
      "The linear model is: Y = 3.0545 + 0.047353*TV \n"
     ]
    }
   ],
   "source": [
    "## Regressing Sales on Tv advertisement\n",
    "\n",
    "tv_train = Xs_train['TV'].values.reshape(-1,1)\n",
    "tv_test = Xs_test['TV'].values.reshape(-1,1)\n",
    "y = y_train\n",
    "reg1 = LinearRegression()\n",
    "reg1.fit(tv_train, y_train)\n",
    "print(\"The linear model is: Y = {:.5} + {:.5}*TV \".format(reg.intercept_[0], reg.coef_[0][0]))"
   ]
  },
  {
   "cell_type": "markdown",
   "metadata": {},
   "source": [
    "### 2. Sales ~ Radio"
   ]
  },
  {
   "cell_type": "code",
   "execution_count": 248,
   "metadata": {},
   "outputs": [
    {
     "name": "stdout",
     "output_type": "stream",
     "text": [
      "The linear model is: Y = 9.3527 + 0.2014*Radio \n"
     ]
    }
   ],
   "source": [
    "## Regressing Sales on Radio advertisement\n",
    "\n",
    "radio_train = Xs_train['radio'].values.reshape(-1,1)\n",
    "radio_test = Xs_test['radio'].values.reshape(-1,1)\n",
    "reg2 = LinearRegression()\n",
    "reg2.fit(radio_train, y_train)\n",
    "print(\"The linear model is: Y = {:.5} + {:.5}*Radio \".format(reg2.intercept_[0], reg2.coef_[0][0]))"
   ]
  },
  {
   "cell_type": "markdown",
   "metadata": {},
   "source": [
    "### 3. Sales ~ Newspaper"
   ]
  },
  {
   "cell_type": "code",
   "execution_count": 249,
   "metadata": {},
   "outputs": [
    {
     "name": "stdout",
     "output_type": "stream",
     "text": [
      "The linear model is: Y = 12.47 + 0.050066*newspaper\n"
     ]
    }
   ],
   "source": [
    "## Regressing Sales on Newspaper advertisement\n",
    "\n",
    "npp_train = Xs_train['newspaper'].values.reshape(-1,1)\n",
    "npp_test = Xs_test['newspaper'].values.reshape(-1,1)\n",
    "reg3 = LinearRegression()\n",
    "reg3.fit(npp_train, y_train)\n",
    "print(\"The linear model is: Y = {:.5} + {:.5}*newspaper\".format(reg3.intercept_[0], reg3.coef_[0][0]))"
   ]
  },
  {
   "cell_type": "markdown",
   "metadata": {},
   "source": [
    "### 4. R2_scores "
   ]
  },
  {
   "cell_type": "code",
   "execution_count": 250,
   "metadata": {},
   "outputs": [
    {
     "name": "stdout",
     "output_type": "stream",
     "text": [
      "For Sales~TV, train data R2_scores = 0.6265 ; test data R2_scores = 0.5444\n"
     ]
    }
   ],
   "source": [
    "## Test and train data R^2 from Sales~TV\n",
    "\n",
    "from sklearn.metrics import r2_score\n",
    "t1=r2_score(y_true=y_train,y_pred=reg1.predict(tv_train))\n",
    "t2=r2_score(y_true=y_test,y_pred=reg1.predict(tv_test))\n",
    "print(\"For Sales~TV, train data R2_scores =\",round(t1,4),\";\",\"test data R2_scores =\",round(t2,4))"
   ]
  },
  {
   "cell_type": "code",
   "execution_count": 251,
   "metadata": {},
   "outputs": [
    {
     "name": "stdout",
     "output_type": "stream",
     "text": [
      "For Sales~radio, train data R2_scores = 0.3143 ; test data R2_scores = 0.4101\n"
     ]
    }
   ],
   "source": [
    "## Test and train data R^2 from Sales~radio\n",
    "\n",
    "t1=r2_score(y_true=y_train,y_pred=reg2.predict(radio_train))\n",
    "t2=r2_score(y_true=y_test,y_pred=reg2.predict(radio_test))\n",
    "print(\"For Sales~radio, train data R2_scores =\",round(t1,4),\";\",\"test data R2_scores =\",round(t2,4))"
   ]
  },
  {
   "cell_type": "code",
   "execution_count": 252,
   "metadata": {},
   "outputs": [
    {
     "name": "stdout",
     "output_type": "stream",
     "text": [
      "For Sales~newspaper, train data R2_scores = 0.0431 ; test data R2_scores = 0.0892\n"
     ]
    }
   ],
   "source": [
    "## Test and train data R^2 from Sales~newspaper\n",
    "\n",
    "t1=r2_score(y_true=y_train,y_pred=reg3.predict(npp_train))\n",
    "t2=r2_score(y_true=y_test,y_pred=reg3.predict(npp_test))\n",
    "print(\"For Sales~newspaper, train data R2_scores =\",round(t1,4),\";\",\"test data R2_scores =\",round(t2,4))"
   ]
  },
  {
   "cell_type": "markdown",
   "metadata": {},
   "source": [
    "From the training data, the amount of variability in Sales that is explained by TV advertisement, radio advertisement and newspaper advertisement are about 62.65%, 31.43% and 4.31% respectively. Thus, TV advertisement has the higest impact on Sales, followed by radio advertisement, whereas newspaper advertisement has the least impact on sales. A similar pattern can be seen from the test data where TV advertisement explains the highest amount of the variability in sales, with test R2 score of about 54.44% followed by radio advertisement with test R2 score of about 41.01% and then the least, newspaper advertisement with test R2 score of about 8.92%."
   ]
  },
  {
   "cell_type": "markdown",
   "metadata": {},
   "source": [
    "### 1. Multiple Linear Regression"
   ]
  },
  {
   "cell_type": "code",
   "execution_count": 253,
   "metadata": {},
   "outputs": [
    {
     "name": "stdout",
     "output_type": "stream",
     "text": [
      "The linear model is: Y = 2.911 + 0.045529*TV + 0.18512*radio + 0.0011988*newspaper\n"
     ]
    }
   ],
   "source": [
    "## Regressing Sales on all predictors\n",
    "\n",
    "regM = LinearRegression()\n",
    "regM.fit(Xs_train, y_train)\n",
    "print(\"The linear model is: Y = {:.5} + {:.5}*TV + {:.5}*radio + {:.5}*newspaper\".format(regM.intercept_[0], regM.coef_[0][0], regM.coef_[0][1], regM.coef_[0][2]))"
   ]
  },
  {
   "cell_type": "markdown",
   "metadata": {},
   "source": [
    "### 2. Ridge Regression"
   ]
  },
  {
   "cell_type": "code",
   "execution_count": 254,
   "metadata": {
    "scrolled": true
   },
   "outputs": [
    {
     "name": "stdout",
     "output_type": "stream",
     "text": [
      "The Ridge linear model is: Y = 13.997 + 9.4585e-12*TV + 4.0281e-11*radio + 1.0013e-11*newspaper\n"
     ]
    }
   ],
   "source": [
    "## Ridge Regression of Sales on all predictors \n",
    "\n",
    "alphas = 10**np.linspace(10,-2,100)*0.5\n",
    "ridge = Ridge(normalize = True)\n",
    "r2_values = []\n",
    "\n",
    "for a in alphas:\n",
    "    ridge.set_params(alpha = a)\n",
    "    ridge.fit(Xs_train, y_train)\n",
    "    r2_values.append(r2_score(y_true=y_test,y_pred=ridge.predict(Xs_test)))\n",
    "\n",
    "ridge.set_params(alpha = alphas[np.argmax(r2_score)])\n",
    "ridge.fit(Xs_train, y_train)\n",
    "ridge.coef_\n",
    "print(\"The Ridge linear model is: Y = {:.5} + {:.5}*TV + {:.5}*radio + {:.5}*newspaper\".format(ridge.intercept_[0], ridge.coef_[0][0], ridge.coef_[0][1], ridge.coef_[0][2]))\n",
    "\n"
   ]
  },
  {
   "cell_type": "markdown",
   "metadata": {},
   "source": [
    "### 3. Lasso Regression"
   ]
  },
  {
   "cell_type": "code",
   "execution_count": 255,
   "metadata": {},
   "outputs": [
    {
     "name": "stdout",
     "output_type": "stream",
     "text": [
      "The lasso linear model is: Y = 3.1283 + 0.044848*TV + 0.18168*radio + 0.0*newspaper\n"
     ]
    }
   ],
   "source": [
    "## Lasso Regression of Sales on all predictors \n",
    "\n",
    "from sklearn.linear_model import Lasso\n",
    "lasso = Lasso(max_iter = 10000, normalize = True)\n",
    "r2_values_lasso = []\n",
    "\n",
    "for a in alphas:\n",
    "    lasso.set_params(alpha = a)\n",
    "    lasso.fit(Xs_train, y_train)\n",
    "    r2_values_lasso.append(r2_score(y_true=y_test,y_pred=lasso.predict(Xs_test)))\n",
    "    \n",
    "lasso.set_params(alpha = alphas[np.argmax(r2_values_lasso)])\n",
    "lasso.fit(Xs_train, y_train)\n",
    "lasso.coef_\n",
    "print(\"The lasso linear model is: Y = {:.5} + {:.5}*TV + {:.5}*radio + {:.5}*newspaper\".format(lasso.intercept_[0], lasso.coef_[0], lasso.coef_[1], lasso.coef_[2]))\n"
   ]
  },
  {
   "cell_type": "markdown",
   "metadata": {},
   "source": [
    "### 4. R2_scores"
   ]
  },
  {
   "cell_type": "code",
   "execution_count": 256,
   "metadata": {},
   "outputs": [
    {
     "name": "stdout",
     "output_type": "stream",
     "text": [
      "The Multiple regression test data R2_score = 0.9138\n"
     ]
    }
   ],
   "source": [
    "t=r2_score(y_true=y_test,y_pred=regM.predict(Xs_test))\n",
    "print(\"The Multiple regression test data R2_score =\",round(t,4))"
   ]
  },
  {
   "cell_type": "code",
   "execution_count": 257,
   "metadata": {},
   "outputs": [
    {
     "name": "stdout",
     "output_type": "stream",
     "text": [
      "The Ridge regression test data R2_score = 0.9134\n"
     ]
    }
   ],
   "source": [
    "print(\"The Ridge regression test data R2_score =\",round(np.max(r2_values),4) )"
   ]
  },
  {
   "cell_type": "code",
   "execution_count": 258,
   "metadata": {},
   "outputs": [
    {
     "name": "stdout",
     "output_type": "stream",
     "text": [
      "The Lasso regression test data R2_score = 0.9127\n"
     ]
    }
   ],
   "source": [
    "print(\"The Lasso regression test data R2_score =\",round(np.max(r2_values_lasso),4) )"
   ]
  },
  {
   "cell_type": "markdown",
   "metadata": {},
   "source": [
    "The test data R2 scores from the multiple regression model and the two regularized models are approximately the same, about 91%. With respect to the coefficients, it can be seen that the coeffecient estimates in the ridge regression are relatively very small and the lasso regression makes the coefficient estimate of newspaper advertisement zero, indicating that newspaper advertisement is relatively less important as was seen in problem 2. One can consider the lasso regression model as a better model since it is more parsimonious even though its not so different from the other models."
   ]
  },
  {
   "cell_type": "markdown",
   "metadata": {},
   "source": [
    "Based on the results from problems 2 and 3 we can clearly see that, newspaper advertisement has the least importance on sales out of the 3 features. For TV and radio advertisement, the simple linear regressions in problem 2 suggest that TV advertisement is more important, however, the regularized models in probelm 3 seems to suggest that radio advertisement is more important since the coefficient of TV advertisement seems to be approaching zero faster."
   ]
  }
 ],
 "metadata": {
  "kernelspec": {
   "display_name": "Python 3",
   "language": "python",
   "name": "python3"
  },
  "language_info": {
   "codemirror_mode": {
    "name": "ipython",
    "version": 3
   },
   "file_extension": ".py",
   "mimetype": "text/x-python",
   "name": "python",
   "nbconvert_exporter": "python",
   "pygments_lexer": "ipython3",
   "version": "3.7.4"
  }
 },
 "nbformat": 4,
 "nbformat_minor": 2
}
